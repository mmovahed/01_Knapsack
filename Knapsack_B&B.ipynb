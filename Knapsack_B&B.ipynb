{
  "nbformat": 4,
  "nbformat_minor": 0,
  "metadata": {
    "colab": {
      "provenance": []
    },
    "kernelspec": {
      "name": "python3",
      "display_name": "Python 3"
    },
    "language_info": {
      "name": "python"
    }
  },
  "cells": [
    {
      "cell_type": "markdown",
      "source": [
        "# 0/1 Knapsack problem using Mixed Integer Linear Programming modeling and Branch & Bound method (B&B)"
      ],
      "metadata": {
        "id": "9a74tgpgpX4K"
      }
    },
    {
      "cell_type": "markdown",
      "source": [
        "Below is a more complete example of a branch and bound algorithm implemented in Python. This example does not use PyTorch, as PyTorch is not typically used for this type of algorithm. Instead, I’ll provide a Python code using common libraries for optimization problems.\n",
        "\n",
        "This example solves a simple 0/1 Knapsack problem using the branch and bound method. The problem is defined as follows: given a set of items, each with a weight and a value, determine the number of each item to include in a collection so that the total weight is less than or equal to a given limit and the total value is as large as possible."
      ],
      "metadata": {
        "id": "YXX1oKtloxPT"
      }
    },
    {
      "cell_type": "code",
      "execution_count": null,
      "metadata": {
        "id": "Cs9b2uoGotod"
      },
      "outputs": [],
      "source": [
        "from scipy.optimize import linprog\n",
        "import numpy as np\n",
        "\n",
        "# Define the branch and bound node\n",
        "class Node:\n",
        "    def __init__(self, level, value, weight, bound, contains):\n",
        "        self.level = level\n",
        "        self.value = value\n",
        "        self.weight = weight\n",
        "        self.bound = bound\n",
        "        self.contains = contains\n",
        "\n",
        "# Function to calculate the upper bound\n",
        "def bound(node, n, W, items):\n",
        "    if node.weight >= W:\n",
        "        return 0\n",
        "    else:\n",
        "        bound = node.value\n",
        "        j = node.level + 1\n",
        "        totweight = node.weight\n",
        "        while j < n and totweight + items[j][2] <= W:\n",
        "            totweight += items[j][2]\n",
        "            bound += items[j][1]\n",
        "            j += 1\n",
        "        if j < n:\n",
        "            bound += (W - totweight) * items[j][1] / items[j][2]\n",
        "        return bound\n",
        "\n",
        "# Branch and Bound function to solve Knapsack\n",
        "def knapsack(items, W):\n",
        "    # Sort items by value to weight ratio\n",
        "    items = sorted(items, key=lambda x: x[1]/x[2], reverse=True)\n",
        "    Q = []\n",
        "    n = len(items)\n",
        "    v = Node(-1, 0, 0, 0.0, [])\n",
        "    Q.append(v)\n",
        "    max_value = 0\n",
        "    best_combination = []\n",
        "\n",
        "    while Q:\n",
        "        v = Q.pop(0)\n",
        "        if v.level == -1:\n",
        "            u_level = 0\n",
        "        if v.level == n-1:\n",
        "            continue\n",
        "        u_level = v.level + 1\n",
        "\n",
        "        # Include the next item\n",
        "        u = Node(u_level, v.value + items[u_level][1], v.weight + items[u_level][2], 0.0, v.contains + [items[u_level][0]])\n",
        "        if u.weight <= W and u.value > max_value:\n",
        "            max_value = u.value\n",
        "            best_combination = u.contains\n",
        "\n",
        "        u.bound = bound(u, n, W, items)\n",
        "        if u.bound > max_value:\n",
        "            Q.append(u)\n",
        "\n",
        "        # Exclude the next item\n",
        "        u = Node(u_level, v.value, v.weight, 0.0, v.contains)\n",
        "        u.bound = bound(u, n, W, items)\n",
        "        if u.bound > max_value:\n",
        "            Q.append(u)\n",
        "\n",
        "    return max_value, best_combination\n",
        "\n",
        "# Example items (item, value, weight)\n",
        "items = [('item1', 40, 2), ('item2', 30, 5), ('item3', 50, 10), ('item4', 10, 5)]\n",
        "# Maximum weight\n",
        "W = 16\n",
        "\n",
        "# Solve\n",
        "max_value, best_combination = knapsack(items, W)\n",
        "print(f'Maximum value: {max_value}')\n",
        "print(f'Items to include: {best_combination}')"
      ]
    },
    {
      "cell_type": "markdown",
      "source": [
        "In this code:\n",
        "\n",
        "1.   Node class represents a node in the state space tree.\n",
        "2.   bound function calculates the upper bound of the maximum value that can be achieved from a node.\n",
        "3.   knapsack function implements the branch and bound algorithm for the 0/1 Knapsack problem.\n",
        "\n",
        "The example items are represented as tuples of (item name, value, weight).\n",
        "The W variable represents the maximum weight capacity of the knapsack.\n",
        "Please note that this is a simplified example for educational purposes and may not be the most efficient implementation. For more complex problems or larger datasets, you would need to optimize the code further or use specialized libraries designed for such optimization problems."
      ],
      "metadata": {
        "id": "Kan3J8eQo2Gy"
      }
    }
  ]
}